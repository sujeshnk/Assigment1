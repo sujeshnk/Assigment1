{
  "nbformat": 4,
  "nbformat_minor": 0,
  "metadata": {
    "colab": {
      "name": "Leap year.ipynb",
      "provenance": []
    },
    "kernelspec": {
      "name": "python3",
      "display_name": "Python 3"
    }
  },
  "cells": [
    {
      "cell_type": "code",
      "metadata": {
        "colab": {
          "base_uri": "https://localhost:8080/"
        },
        "id": "XPtSoCiek5IZ",
        "outputId": "8e6aaea0-54fa-4d44-f681-545fdc6015a3"
      },
      "source": [
        "x=int(input(\"Enter an year\"))\r\n",
        "result= \"Leap year\" if x%400==0 else \"Leap Year\" if x%4==0 and x%100!=0 else \"Non Leap year\"\r\n",
        "print(result);"
      ],
      "execution_count": 3,
      "outputs": [
        {
          "output_type": "stream",
          "text": [
            "Enter an year2004\n",
            "Leap Year\n"
          ],
          "name": "stdout"
        }
      ]
    }
  ]
}